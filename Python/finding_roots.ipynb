{
 "cells": [
  {
   "cell_type": "code",
   "execution_count": null,
   "metadata": {},
   "outputs": [],
   "source": [
    "import numpy as np\n",
    "\n",
    "x0 = 1          #set initial estimate x0\n",
    "x1 = 2          #set initial estimate x1\n",
    "tol = 1e-15     #set the tolerance as 10^-15\n",
    "\n",
    "def f(x):\n",
    "    return np.sqrt(x+1)*np.cos(x/2)**3\n",
    "\n",
    "#loop 500 times OR convergence reached\n",
    "for i in range(500):\n",
    "    # store the function values\n",
    "    fx0 = f(x0)\n",
    "    fx1 = f(x1)\n",
    "\n",
    "    #iterate the secant method(backward finit-difference formul to the Netwon-Raphson iteratice equation)\n",
    "    x2 = x1 - fx1 * (x1-x0)/(fx1-fx0)\n",
    "    interval = abs(x2-x1)/abs(x1)\n",
    "\n",
    "    #cheeck convergence\n",
    "    if interval <= tol:\n",
    "        N = i + 1\n",
    "        rootFound = True\n",
    "        break\n",
    "    \n",
    "    # iterate variables ready for next loop\n",
    "    x0 = x1\n",
    "    x1 = x2\n",
    "\n",
    "else:\n",
    "    rootFound = False\n",
    "\n",
    "if rootFound:\n",
    "    print('After {} iterations, the root is {}'.format(N, x2))\n",
    "else:\n",
    "    print('Secant method did not converge')"
   ]
  },
  {
   "cell_type": "code",
   "execution_count": 1,
   "metadata": {},
   "outputs": [
    {
     "data": {
      "text/plain": [
       "3.5208545993194003"
      ]
     },
     "execution_count": 1,
     "metadata": {},
     "output_type": "execute_result"
    }
   ],
   "source": [
    "from scipy.optimize import newton\n",
    "f = lambda x: x**3-7*x-19\n",
    "df = lambda x: 3*x**2-7\n",
    "x0 = 5 #initial guess\n",
    "newton(f, x0, df)"
   ]
  }
 ],
 "metadata": {
  "interpreter": {
   "hash": "ba9b58dc1a7393ca2277b2071fc950243d4359844a5ae775cc867013710d75c3"
  },
  "kernelspec": {
   "display_name": "Python 3.9.7 64-bit ('base': conda)",
   "language": "python",
   "name": "python3"
  },
  "language_info": {
   "codemirror_mode": {
    "name": "ipython",
    "version": 3
   },
   "file_extension": ".py",
   "mimetype": "text/x-python",
   "name": "python",
   "nbconvert_exporter": "python",
   "pygments_lexer": "ipython3",
   "version": "3.9.7"
  },
  "orig_nbformat": 4
 },
 "nbformat": 4,
 "nbformat_minor": 2
}
