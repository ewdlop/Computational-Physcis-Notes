{
 "cells": [
  {
   "cell_type": "code",
   "execution_count": 29,
   "metadata": {},
   "outputs": [],
   "source": [
    "import numpy as np\n",
    "import scipy.stats as stats"
   ]
  },
  {
   "cell_type": "code",
   "execution_count": 30,
   "metadata": {},
   "outputs": [],
   "source": [
    "npoints = 20   # number of integer support points of the distribution minus 1\n",
    "npointsh = npoints // 2\n",
    "npointsf = float(npoints)\n",
    "nbound = 4   # bounds for the truncated normal\n",
    "normbound = (1+1/npointsf) * nbound   # actual bounds of truncated normal"
   ]
  },
  {
   "cell_type": "code",
   "execution_count": 31,
   "metadata": {},
   "outputs": [
    {
     "name": "stdout",
     "output_type": "stream",
     "text": [
      "[-10  -9  -8  -7  -6  -5  -4  -3  -2  -1   0   1   2   3   4   5   6   7\n",
      "   8   9  10  11]\n",
      "[-4.2 -3.8 -3.4 -3.  -2.6 -2.2 -1.8 -1.4 -1.  -0.6 -0.2  0.2  0.6  1.\n",
      "  1.4  1.8  2.2  2.6  3.   3.4  3.8  4.2]\n",
      "[-10.5  -9.5  -8.5  -7.5  -6.5  -5.5  -4.5  -3.5  -2.5  -1.5  -0.5   0.5\n",
      "   1.5   2.5   3.5   4.5   5.5   6.5   7.5   8.5   9.5  10.5]\n"
     ]
    }
   ],
   "source": [
    "grid = np.arange(-npointsh, npointsh+2, 1)   # integer grid\n",
    "print(grid)\n",
    "gridlimitsnorm = (grid-0.5) / npointsh * nbound   # bin limits for the truncnorm\n",
    "print(gridlimitsnorm)\n",
    "gridlimits = grid - 0.5   # used later in the analysis\n",
    "print(gridlimits)\n",
    "grid = grid[:-1]  # remove last point"
   ]
  },
  {
   "cell_type": "code",
   "execution_count": 32,
   "metadata": {},
   "outputs": [],
   "source": [
    "probs = np.diff(stats.truncnorm.cdf(gridlimitsnorm, -normbound, normbound)) # derivative of the cdf of the truncated normal is the pdf\n",
    "gridint = grid.astype(int)  # integer grid"
   ]
  },
  {
   "cell_type": "code",
   "execution_count": 33,
   "metadata": {},
   "outputs": [
    {
     "name": "stdout",
     "output_type": "stream",
     "text": [
      "mean = -0.0000, variance = 6.3302, skew = 0.0000, kurtosis = -0.0076\n"
     ]
    }
   ],
   "source": [
    "normdiscrete = stats.rv_discrete(values=(gridint, np.round(probs, decimals=7)), name='normdiscrete')  # discrete distribution for the truncated normal\n",
    "print('mean = %6.4f, variance = %6.4f, skew = %6.4f, kurtosis = %6.4f' %\n",
    "      normdiscrete.stats(moments='mvsk')) # print mean, variance, skewness and kurtosis of the truncated normal distribution "
   ]
  },
  {
   "cell_type": "code",
   "execution_count": 34,
   "metadata": {},
   "outputs": [],
   "source": [
    "nd_std = np.sqrt(normdiscrete.stats(moments='v'))  # standard deviation, sqrt(variance)"
   ]
  },
  {
   "cell_type": "code",
   "execution_count": 35,
   "metadata": {},
   "outputs": [
    {
     "name": "stdout",
     "output_type": "stream",
     "text": [
      "[[-1.00000000e+01  0.00000000e+00  2.95019349e-02]\n",
      " [-9.00000000e+00  0.00000000e+00  1.32294142e-01]\n",
      " [-8.00000000e+00  0.00000000e+00  5.06497902e-01]\n",
      " [-7.00000000e+00  0.00000000e+00  1.65568919e+00]\n",
      " [-6.00000000e+00  5.00000000e+00  4.62125309e+00]\n",
      " [-5.00000000e+00  1.10000000e+01  1.10137298e+01]\n",
      " [-4.00000000e+00  2.90000000e+01  2.24137683e+01]\n",
      " [-3.00000000e+00  5.20000000e+01  3.89503370e+01]\n",
      " [-2.00000000e+00  4.90000000e+01  5.78004747e+01]\n",
      " [-1.00000000e+00  7.30000000e+01  7.32455414e+01]\n",
      " [ 0.00000000e+00  7.60000000e+01  7.92618251e+01]\n",
      " [ 1.00000000e+00  7.80000000e+01  7.32455414e+01]\n",
      " [ 2.00000000e+00  4.50000000e+01  5.78004747e+01]\n",
      " [ 3.00000000e+00  4.20000000e+01  3.89503370e+01]\n",
      " [ 4.00000000e+00  2.10000000e+01  2.24137683e+01]\n",
      " [ 5.00000000e+00  1.30000000e+01  1.10137298e+01]\n",
      " [ 6.00000000e+00  3.00000000e+00  4.62125309e+00]\n",
      " [ 7.00000000e+00  2.00000000e+00  1.65568919e+00]\n",
      " [ 8.00000000e+00  1.00000000e+00  5.06497902e-01]\n",
      " [ 9.00000000e+00  0.00000000e+00  1.32294142e-01]\n",
      " [ 1.00000000e+01  0.00000000e+00  2.95019349e-02]]\n"
     ]
    }
   ],
   "source": [
    "n_sample = 500\n",
    "rvs = normdiscrete.rvs(size=n_sample) # random sample from the truncated normal distribution\n",
    "f, l = np.histogram(rvs, bins=gridlimits) # histogram of the random sample\n",
    "sfreq = np.vstack([gridint, f, probs*n_sample]).T  # table of the sample frequencies and the expected frequencies\n",
    "print(sfreq)"
   ]
  },
  {
   "cell_type": "code",
   "execution_count": 36,
   "metadata": {},
   "outputs": [],
   "source": [
    "f2 = np.hstack([f[:5].sum(), f[5:-5], f[-5:].sum()]) # first and last 5 bins are combined\n",
    "p2 = np.hstack([probs[:5].sum(), probs[5:-5], probs[-5:].sum()]) # first and last 5 bins are combined\n",
    "ch2, pval = stats.chisquare(f2, p2*n_sample) # chi-square test of the random sample against the truncated normal distribution "
   ]
  },
  {
   "cell_type": "code",
   "execution_count": 37,
   "metadata": {},
   "outputs": [
    {
     "name": "stdout",
     "output_type": "stream",
     "text": [
      "chisquare for normdiscrete: chi2 = 12.285 pvalue = 0.4230\n"
     ]
    }
   ],
   "source": [
    "print('chisquare for normdiscrete: chi2 = %6.3f pvalue = %6.4f' % (ch2, pval))"
   ]
  }
 ],
 "metadata": {
  "kernelspec": {
   "display_name": "base",
   "language": "python",
   "name": "python3"
  },
  "language_info": {
   "codemirror_mode": {
    "name": "ipython",
    "version": 3
   },
   "file_extension": ".py",
   "mimetype": "text/x-python",
   "name": "python",
   "nbconvert_exporter": "python",
   "pygments_lexer": "ipython3",
   "version": "3.9.15"
  },
  "orig_nbformat": 4,
  "vscode": {
   "interpreter": {
    "hash": "acbe944587e9153b3760fe6bdea35fbf77e65f6dcc869406197e5f964786d5ed"
   }
  }
 },
 "nbformat": 4,
 "nbformat_minor": 2
}
