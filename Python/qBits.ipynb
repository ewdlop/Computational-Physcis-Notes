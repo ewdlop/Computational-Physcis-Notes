{
 "cells": [
  {
   "cell_type": "code",
   "execution_count": 134,
   "metadata": {},
   "outputs": [],
   "source": [
    "from cmath import sqrt\n",
    "import numpy as np\n",
    "ket0 = np.array([1,0]) # |0>\n",
    "ket1 = np.array([0,1])  # |1>\n",
    "ketPlus = (ket0 + ket1)/np.sqrt(2) # |+>\n",
    "ketMinus = (ket0 - ket1)/np.sqrt(2) # |->\n",
    "H = 1/np.sqrt(2)*np.array([[1,1],[1,-1]]) # Hadamard gate\n",
    "\n",
    "# Pauli matrices are a set of three 2x2 real matrices used in quantum mechanics to represent the three Pauli operators (X, Y, and Z) and the identity operator (I). \n",
    "# The Pauli matrices are denoted by σ1, σ2, and σ3, respectively, and are given by the following expressions:\n",
    "# σ1 = [[0,1],[1,0]]    σ2 = [[0,-i],[i,0]]    σ3 = [[1,0],[0,-1]]   I = [[1,0],[0,1]] \n",
    "# The Pauli matrices are the generators of the Pauli group, which is the group of all unitary matrices of the form e^{iθP} where P is a Pauli matrix and θ is a real number.\n",
    "# Hemitian, involutory, and unitary matrices are all Pauli matrices.\n",
    "\n",
    "X = np.array([[0,1],[1,0]]) # Pauli-X gate, also known as NOT gate\n",
    "Y = np.array([[0,-1j],[1j,0]]) # Pauli-Y gate, also known as NOT gate\n",
    "Z = np.array([[1,0],[0,-1]]) # Pauli-Z gate, also known as phase flip gate\n",
    "\n",
    "SQRT_X = np.array([[1+1j,1-1j],[1-1j,1+1j]])/2 # Square root of X gate, pi phase shift gate\n",
    "S = np.array([[1,0],[0,1j]]) # Phase gate,also know as sqrt(Z) gate, pi/2 phase shift gate\n",
    "T = np.array([[1,0],[0,np.exp(1j*np.pi/4)]]) # T gate, also known as sqrt(S) gate, or root4(Z) gate, or pi/4 phase shift gate\n",
    "\n",
    "SWAP = np.array([[1,0,0,0],[0,0,1,0],[0,1,0,0],[0,0,0,1]]) # SWAP gate (exchange gate) |a,b> -> |b,a>\n",
    "SQRT_SWAP = np.array([[1,0,0,0],[0,(1+1j)/2,(1-1j)/2,0],[0,(1-1j)/2,(1+1j)/2,0],[0,0,0,1]]) # Square root of SWAP gate,\n",
    "\n",
    "# Controlled gates\n",
    "CNOT = np.array([[1,0,0,0],[0,1,0,0],[0,0,0,1],[0,0,1,0]]) # Controlled NOT gate, also known as CNOT gate, or controlled X gate, |a,b> -> |a,b XOR a> \n",
    "CZ = np.array([[1,0,0,0],[0,1,0,0],[0,0,1,0],[0,0,0,-1]]) # Controlled Z gate, also known as controlled phase flip gate \n",
    "CCNOT = np.array([[1,0,0,0,0,0,0,0],[0,1,0,0,0,0,0,0],[0,0,1,0,0,0,0,0],[0,0,0,1,0,0,0,0],[0,0,0,0,1,0,0,0],[0,0,0,0,0,1,0,0],[0,0,0,0,0,0,0,1],[0,0,0,0,0,0,1,0]]) # Toffoli gate, also known as CCNOT gate, or controlled controlled NOT gate\n"
   ]
  },
  {
   "cell_type": "code",
   "execution_count": 135,
   "metadata": {},
   "outputs": [],
   "source": [
    "def phase_shift_gate(theta):\n",
    "    return np.array([[1,0],[0,np.exp(1j*theta)]]) # Phase shift gate "
   ]
  },
  {
   "cell_type": "code",
   "execution_count": 136,
   "metadata": {},
   "outputs": [
    {
     "data": {
      "text/plain": [
       "array([ 0.70710678, -0.70710678])"
      ]
     },
     "execution_count": 136,
     "metadata": {},
     "output_type": "execute_result"
    }
   ],
   "source": [
    "H @ ket0 # H|0> = |+>\n",
    "H @ ket1 # H|1> = |->"
   ]
  },
  {
   "cell_type": "code",
   "execution_count": 137,
   "metadata": {},
   "outputs": [],
   "source": [
    "from abc import ABCMeta, abstractmethod\n",
    "from contextlib import contextmanager"
   ]
  },
  {
   "cell_type": "code",
   "execution_count": 138,
   "metadata": {},
   "outputs": [],
   "source": [
    "class Qubit(metaclass=ABCMeta):\n",
    "    @abstractmethod\n",
    "    def h(self):\n",
    "        pass\n",
    "\n",
    "    @abstractmethod\n",
    "    def measure(self) -> bool:\n",
    "        pass\n",
    "\n",
    "    @abstractmethod\n",
    "    def reset(self):\n",
    "        pass"
   ]
  },
  {
   "cell_type": "code",
   "execution_count": 139,
   "metadata": {},
   "outputs": [],
   "source": [
    "class QuantumDevice(metaclass=ABCMeta):\n",
    "    @abstractmethod\n",
    "    def allocate_qubit(self) -> Qubit:\n",
    "        pass\n",
    "    \n",
    "    @abstractmethod\n",
    "    def deallocate_qubit(self, qubit: Qubit):\n",
    "        pass\n",
    "\n",
    "    @contextmanager\n",
    "    def using_qubit(self):\n",
    "        qubit = self.allocate_qubit()\n",
    "        try:\n",
    "            yield qubit\n",
    "        finally:\n",
    "            qubit.reset()\n",
    "            self.deallocate_qubit(qubit)"
   ]
  },
  {
   "cell_type": "code",
   "execution_count": 140,
   "metadata": {},
   "outputs": [],
   "source": [
    "KET_0 = np.array([1, 0]) # |0>\n",
    "H = np.array([[1, 1], [1, -1]], dtype=complex) / np.sqrt(2) # Hadamard gate"
   ]
  },
  {
   "cell_type": "code",
   "execution_count": 141,
   "metadata": {},
   "outputs": [],
   "source": [
    "class SimulatedQubit(Qubit):\n",
    "    def _init_(self):\n",
    "        self.reset()\n",
    "\n",
    "    def h(self):\n",
    "        self.state = H @ self.state\n",
    "\n",
    "    def measure(self) -> bool:\n",
    "        prob_0 = np.abs(self.state[0]) ** 2\n",
    "        sample = np.random.random() <= prob_0\n",
    "        return bool(0 if sample else 1)\n",
    "\n",
    "    def reset(self):\n",
    "        self.state = KET_0.copy()"
   ]
  },
  {
   "cell_type": "code",
   "execution_count": 142,
   "metadata": {},
   "outputs": [],
   "source": [
    "class SingleQubitSimulator(QuantumDevice):\n",
    "    available_qubits : list[SimulatedQubit] = [SimulatedQubit()]\n",
    "\n",
    "    def allocate_qubit(self) -> SimulatedQubit:\n",
    "        if self.available_qubits:\n",
    "            return self.available_qubits.pop()\n",
    "\n",
    "    def deallocate_qubit(self, qubit: SimulatedQubit):\n",
    "        self.available_qubits.append(qubit)"
   ]
  },
  {
   "cell_type": "code",
   "execution_count": 143,
   "metadata": {},
   "outputs": [],
   "source": [
    "def qrng(device: QuantumDevice) -> bool:\n",
    "    with device.using_qubit() as q:\n",
    "        q.h()\n",
    "        return q.measure()"
   ]
  },
  {
   "cell_type": "code",
   "execution_count": 145,
   "metadata": {},
   "outputs": [
    {
     "name": "stdout",
     "output_type": "stream",
     "text": [
      "Our QRNG returned False.\n",
      "Our QRNG returned True.\n",
      "Our QRNG returned False.\n",
      "Our QRNG returned True.\n",
      "Our QRNG returned False.\n",
      "Our QRNG returned True.\n",
      "Our QRNG returned False.\n",
      "Our QRNG returned True.\n",
      "Our QRNG returned True.\n",
      "Our QRNG returned True.\n"
     ]
    }
   ],
   "source": [
    "qsim = SingleQubitSimulator()\n",
    "for idx_sample in range(10):\n",
    "    random_sample = qrng(qsim)\n",
    "    print(f\"Our QRNG returned {random_sample}.\")"
   ]
  },
  {
   "cell_type": "code",
   "execution_count": null,
   "metadata": {},
   "outputs": [],
   "source": []
  }
 ],
 "metadata": {
  "kernelspec": {
   "display_name": "Python 3.9.12 ('base')",
   "language": "python",
   "name": "python3"
  },
  "language_info": {
   "codemirror_mode": {
    "name": "ipython",
    "version": 3
   },
   "file_extension": ".py",
   "mimetype": "text/x-python",
   "name": "python",
   "nbconvert_exporter": "python",
   "pygments_lexer": "ipython3",
   "version": "3.9.12"
  },
  "orig_nbformat": 4,
  "vscode": {
   "interpreter": {
    "hash": "acbe944587e9153b3760fe6bdea35fbf77e65f6dcc869406197e5f964786d5ed"
   }
  }
 },
 "nbformat": 4,
 "nbformat_minor": 2
}
