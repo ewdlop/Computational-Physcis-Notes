{
 "cells": [
  {
   "cell_type": "code",
   "execution_count": 6,
   "metadata": {},
   "outputs": [
    {
     "data": {
      "text/plain": [
       "array([[ 3.96789996,  5.71441564,  0.        ,  0.        ],\n",
       "       [ 5.71441564,  2.54512377,  6.00707875,  0.        ],\n",
       "       [ 0.        ,  6.00707875, -0.76507386,  1.21680404],\n",
       "       [ 0.        ,  0.        ,  1.21680404,  3.65205014]])"
      ]
     },
     "execution_count": 6,
     "metadata": {},
     "output_type": "execute_result"
    }
   ],
   "source": [
    "#Lanczos Iteration for Tridiagonal Matrix Solver\n",
    "#approximate the eigenvalues of an Hermitian matrix\n",
    "\n",
    "import numpy as np\n",
    "from numpy.linalg import norm\n",
    "from numpy.random import random\n",
    "\n",
    "A= np.array([[2, -1+1j, -0.5j, 4.25],\n",
    "[-1-1j, 4, 1, 7],\n",
    "[0.5j, 1, 2, -1+2j],\n",
    "[4.25, 7, -1-2j, 1.4]])\n",
    "\n",
    "N = len(A)\n",
    "I = np.identity(N) # identity matrix\n",
    "\n",
    "# random starting vector\n",
    "x = random(N)\n",
    "\n",
    "# initialise coefficients\n",
    "qii = 0 # q_{i-1}\n",
    "a = [0] # a_0\n",
    "b = [norm(x)] # b_0\n",
    "\n",
    "# Lanczos iteration\n",
    "for i in range(1,N+1):\n",
    "    # calculate q_i:\n",
    "    qi = x/b[i-1]\n",
    "    # append a_i = q_i*.A.q_i to the list\n",
    "    a.append( np.conj(qi).dot(A.dot(qi)) )\n",
    "    # orthogonalise A.q_i\n",
    "    x = np.dot((A-a[i]*I), qi) - b[i-1]*qii\n",
    "    # append b_i = |x| if i<N\n",
    "    if i<N:\n",
    "        b.append(norm(x))\n",
    "    # store qi as qii for the next iteration\n",
    "    qii = qi\n",
    "\n",
    "# drop initial values, and remove any small\n",
    "# complex round-off error present\n",
    "a = np.real_if_close(a[1:])\n",
    "b = np.real_if_close(b[1:])\n",
    "# construct the tridiagonal matrix\n",
    "T = np.diag(a) + np.diag(b,1) + np.diag(b,-1)\n",
    "T"
   ]
  },
  {
   "cell_type": "code",
   "execution_count": null,
   "metadata": {},
   "outputs": [],
   "source": []
  }
 ],
 "metadata": {
  "kernelspec": {
   "display_name": "Python 3.9.12 ('base')",
   "language": "python",
   "name": "python3"
  },
  "language_info": {
   "codemirror_mode": {
    "name": "ipython",
    "version": 3
   },
   "file_extension": ".py",
   "mimetype": "text/x-python",
   "name": "python",
   "nbconvert_exporter": "python",
   "pygments_lexer": "ipython3",
   "version": "3.9.12"
  },
  "orig_nbformat": 4,
  "vscode": {
   "interpreter": {
    "hash": "acbe944587e9153b3760fe6bdea35fbf77e65f6dcc869406197e5f964786d5ed"
   }
  }
 },
 "nbformat": 4,
 "nbformat_minor": 2
}
