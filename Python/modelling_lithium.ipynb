{
 "cells": [
  {
   "cell_type": "code",
   "execution_count": null,
   "metadata": {},
   "outputs": [],
   "source": [
    "import numpy as np\n",
    "import numerov\n",
    "\n",
    "dr = 0.001\n",
    "r = np.arrange(1e-15, 20+dr, dr)\n",
    "N = len(r)\n",
    "\n",
    "# set numnr of protons in the lithium nucleus\n",
    "Z = 3\n",
    "\n",
    "# create an empty array for storing the three\n",
    "# radial probability densities, phi[0], phi[1], phi[2]\n",
    "phi = np.zeros([3, N])\n",
    "# empty array for storing the energies\n",
    "E = np.zeros([3])\n",
    "# create the electron-nucleus Coulomb potential\n",
    "V = -Z/r\n",
    "\n",
    "# Find the ground state (0 nodes)\n",
    "# using an energy range -10 < E < -1\n",
    "E[0], phi[0] = numerov(V, dr, [-10, -1], nodes=0)\n",
    "E[1], phi[1] = numerov(V, dr, [-10, -1], nodes=0)\n",
    "# Find the first excited state (1 node)\n",
    "# using an energy range -10 < E < -0.5\n",
    "E[2], phi[2] = numerov(V, dr, [-10, -0.5], nodes=1)\n",
    "# normalise the wavefunction\n",
    "for i in range(3):\n",
    "    phi[i] = normalise(phi[i], dr)\n",
    "\n",
    "print('Li2+ energy:{}'.format(E*Eh))"
   ]
  }
 ],
 "metadata": {
  "interpreter": {
   "hash": "ba9b58dc1a7393ca2277b2071fc950243d4359844a5ae775cc867013710d75c3"
  },
  "kernelspec": {
   "display_name": "Python 3.9.7 64-bit ('base': conda)",
   "language": "python",
   "name": "python3"
  },
  "language_info": {
   "name": "python",
   "version": "3.9.7"
  },
  "orig_nbformat": 4
 },
 "nbformat": 4,
 "nbformat_minor": 2
}
