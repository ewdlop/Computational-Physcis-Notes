{
 "cells": [
  {
   "cell_type": "code",
   "execution_count": 6,
   "metadata": {},
   "outputs": [
    {
     "name": "stdout",
     "output_type": "stream",
     "text": [
      "(1.1178179380783244, 7.866317216380707e-09)\n",
      "1.117817938088701\n",
      "1.0376588477356563e-11\n"
     ]
    }
   ],
   "source": [
    "import scipy.integrate as integrate\n",
    "import scipy.special as special\n",
    "from numpy import sqrt, sin, cos, pi\n",
    "\n",
    "#intergal of beseselfunction_2.5(x) respect to x from 0 to 4.5\n",
    "result = integrate.quad(lambda x: special.jv(2.5, x),0 ,4.5)\n",
    "print(result)\n",
    "I = sqrt(2/pi)*(18.0/27*sqrt(2)*cos(4.5) - 4.0/27*sqrt(2)*sin(4.5) +\n",
    "                sqrt(2*pi) * special.fresnel(3/sqrt(pi))[0])\n",
    "print(I)\n",
    "print(abs(result[0]-I))"
   ]
  },
  {
   "cell_type": "code",
   "execution_count": 7,
   "metadata": {},
   "outputs": [
    {
     "name": "stdout",
     "output_type": "stream",
     "text": [
      "-3.3519853559482726e-12\n"
     ]
    }
   ],
   "source": [
    "from scipy.integrate import quad\n",
    "import numpy as np\n",
    "import scipy.special as special\n",
    "\n",
    "def integrand(t, n, x):\n",
    "    return np.exp(-x * t) / t**n\n",
    "\n",
    "def expint(n, x):\n",
    "    return quad(integrand, 1, np.inf, args=(n,x))[0]\n",
    "\n",
    "vec_expint = np.vectorize(expint)\n",
    "vec_expint(3, np.arange(1.0, 4.0, 0.5)) # n=3, x=1,4, or 0.5\n",
    "special.expn(3, np.arange(1.0, 4.0, 0.5))\n",
    "result = quad(lambda x: expint(3, x), 0, np.inf)\n",
    "I3 = 1.0/3.0\n",
    "print(I3 - result[0])"
   ]
  },
  {
   "cell_type": "code",
   "execution_count": 8,
   "metadata": {},
   "outputs": [],
   "source": [
    "from scipy.integrate import dblquad\n",
    "area = dblquad(lambda x, y: x*y, 0, 0.5, lambda x: 0, lambda x: 1-2*x) #dxdy (from right to left in code though)"
   ]
  },
  {
   "cell_type": "code",
   "execution_count": 9,
   "metadata": {},
   "outputs": [
    {
     "name": "stdout",
     "output_type": "stream",
     "text": [
      "[[0.001, 2.7219523726987327e-11], [0.01, 2.707707615935695e-08], [0.1, 2.5618693318976704e-05], [0.2, 0.0001914164426143894], [0.5, 0.002308883641785442], [1, 0.00856553082750866]]\n"
     ]
    }
   ],
   "source": [
    "# Trapezoidal\n",
    "import numpy as np\n",
    "\n",
    "# integral of sin^2(1/2*x') respect to x' from x to x+deltax\n",
    "# funciton to return exact result at x=4 for some dx\n",
    "def exact(dx):\n",
    "    return 0.5*(dx + np.sin(4) -np.sin(4+dx))\n",
    "\n",
    "# trapezoidal approximation at x=4 for some dx\n",
    "def trapezoid(dx):\n",
    "    return 0.5*dx*(np.sin(2)**2 + np.sin(2+0.5*dx)**2)\n",
    "\n",
    "local_error = []\n",
    "for dx in [0.001, 0.01, 0.1, 0.2, 0.5, 1]:\n",
    "    local_error.append([dx, np.abs(trapezoid(dx) - exact(dx))])\n",
    "\n",
    "print(local_error)"
   ]
  },
  {
   "cell_type": "code",
   "execution_count": null,
   "metadata": {},
   "outputs": [],
   "source": [
    "import numpy as np\n",
    "\n",
    "# Composite Simpson’s Rule\n",
    "# create the wavefunction grid\n",
    "dx = 0.01\n",
    "x = np.arange(-5, 5+dx, dx)\n",
    "psi = np.exp(-x**2/2)\n",
    "prob = np.abs(psi)**2\n",
    "# Simpson's rule using NumPy slicing\n",
    "A = (dx/3) * (prob[0] + 4*np.sum(prob[1:-1:2]) + 2*np.sum(prob[2:-1:2]) + prob[-1])\n",
    "# normalise the wavefunction\n",
    "psiNorm = psi/np.sqrt(A)"
   ]
  },
  {
   "cell_type": "code",
   "execution_count": 10,
   "metadata": {},
   "outputs": [],
   "source": [
    "#Simpson's\n",
    "\n",
    "import numpy as np\n",
    "\n",
    "# Define the probability function\n",
    "prob = lambda x: np.abs(np.exp(-x**2/2))**2\n",
    "# grid spacing and grid points\n",
    "dx = 0.01\n",
    "a = -5; b = 5\n",
    "N = int((b-a)/dx + 1)\n",
    "# Simpson's rule using function calls\n",
    "A = prob(a) + prob(b)\n",
    "for n in range(1, N):\n",
    "    # even terms\n",
    "    if n % 2 == 0:\n",
    "        A += 4*prob(a + n*dx)\n",
    "    else:\n",
    "        A += 2*prob(a + n*dx)\n",
    "A *= dx/3\n",
    "# normalise the wavefunction\n",
    "psiNorm = lambda x: np.exp(-x**2/2)/np.sqrt(A)"
   ]
  }
 ],
 "metadata": {
  "interpreter": {
   "hash": "ba9b58dc1a7393ca2277b2071fc950243d4359844a5ae775cc867013710d75c3"
  },
  "kernelspec": {
   "display_name": "Python 3.9.7 64-bit ('base': conda)",
   "language": "python",
   "name": "python3"
  },
  "language_info": {
   "codemirror_mode": {
    "name": "ipython",
    "version": 3
   },
   "file_extension": ".py",
   "mimetype": "text/x-python",
   "name": "python",
   "nbconvert_exporter": "python",
   "pygments_lexer": "ipython3",
   "version": "3.9.7"
  },
  "orig_nbformat": 4
 },
 "nbformat": 4,
 "nbformat_minor": 2
}
