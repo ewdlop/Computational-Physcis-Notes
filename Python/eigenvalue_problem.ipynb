{
 "cells": [
  {
   "cell_type": "code",
   "execution_count": 2,
   "metadata": {},
   "outputs": [
    {
     "name": "stdout",
     "output_type": "stream",
     "text": [
      "Dominant eigenvector: [0.33980972-0.23445694j 0.49134277+0.51067227j 0.50105938-0.27621533j]\n",
      "Dominant eigenvalue: 8.45188+0.00000j\n"
     ]
    }
   ],
   "source": [
    "#Rayleigh quotient\n",
    "#power iteration\n",
    "import numpy as np\n",
    "\n",
    "# function to calculate the Rayleight quotient\n",
    "def rayleigh_quotient(A,x):\n",
    "    return np.dot(x, np.dot(A,x)/np.dot(x,x))\n",
    "\n",
    "def normalise(x, eps=1e-10):\n",
    "    N = np.sqrt(np.sum(abs(x)**2))\n",
    "    if N < eps: # in case it is the zero vector!\n",
    "        return x\n",
    "    else:\n",
    "        return x/N\n",
    "\n",
    "#hermitian matrix\n",
    "A = np.array([[4, -1j, 2],\n",
    "[1j, 2, 2+7j],\n",
    "[2, 2-7j, -2]])\n",
    "\n",
    "# choose the starting vector\n",
    "x = normalise(np.array([1, 1, 1]))\n",
    "RQnew = rayleigh_quotient(A,x)\n",
    "RQold = 0\n",
    "# perform the power iteration\n",
    "while np.abs(RQnew-RQold) > 1e-6:\n",
    "    RQold = RQnew\n",
    "    x = normalise(np.dot(A, x))\n",
    "    RQnew = rayleigh_quotient(A, x)\n",
    "\n",
    "print(\"Dominant eigenvector:\",x)\n",
    "print(\"Dominant eigenvalue: {:.5f}\".format(RQnew))"
   ]
  }
 ],
 "metadata": {
  "interpreter": {
   "hash": "ba9b58dc1a7393ca2277b2071fc950243d4359844a5ae775cc867013710d75c3"
  },
  "kernelspec": {
   "display_name": "Python 3.9.7 64-bit ('base': conda)",
   "language": "python",
   "name": "python3"
  },
  "language_info": {
   "codemirror_mode": {
    "name": "ipython",
    "version": 3
   },
   "file_extension": ".py",
   "mimetype": "text/x-python",
   "name": "python",
   "nbconvert_exporter": "python",
   "pygments_lexer": "ipython3",
   "version": "3.9.7"
  },
  "orig_nbformat": 4
 },
 "nbformat": 4,
 "nbformat_minor": 2
}
