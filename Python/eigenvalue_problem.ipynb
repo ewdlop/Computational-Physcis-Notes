{
 "cells": [
  {
   "cell_type": "code",
   "execution_count": 4,
   "metadata": {},
   "outputs": [
    {
     "name": "stdout",
     "output_type": "stream",
     "text": [
      "Dominant eigenvector: [0.33980972-0.23445694j 0.49134277+0.51067227j 0.50105938-0.27621533j]\n",
      "Dominant eigenvalue: 8.45188+0.00000j\n"
     ]
    }
   ],
   "source": [
    "#Rayleigh quotient\n",
    "#power iteration\n",
    "import numpy as np\n",
    "\n",
    "# function to calculate the Rayleight quotient\n",
    "def rayleigh_quotient(A,x):\n",
    "    return np.dot(x, np.dot(A,x)/np.dot(x,x))\n",
    "\n",
    "def normalise(x, eps=1e-10):\n",
    "    N = np.sqrt(np.sum(abs(x)**2))\n",
    "    if N < eps: # in case it is the zero vector!\n",
    "        return x\n",
    "    else:\n",
    "        return x/N\n",
    "\n",
    "#hermitian matrix\n",
    "A = np.array([[4, -1j, 2],\n",
    "[1j, 2, 2+7j],\n",
    "[2, 2-7j, -2]])\n",
    "\n",
    "# choose the starting vector\n",
    "x = normalise(np.array([1, 1, 1]))\n",
    "RQnew = rayleigh_quotient(A,x)\n",
    "RQold = 0\n",
    "# perform the power iteration\n",
    "while np.abs(RQnew-RQold) > 1e-6:\n",
    "    RQold = RQnew\n",
    "    x = normalise(np.dot(A, x))\n",
    "    RQnew = rayleigh_quotient(A, x)\n",
    "\n",
    "print(\"Dominant eigenvector:\",x)\n",
    "print(\"Dominant eigenvalue: {:.5f}\".format(RQnew))"
   ]
  },
  {
   "cell_type": "code",
   "execution_count": 5,
   "metadata": {},
   "outputs": [
    {
     "data": {
      "text/plain": [
       "array([[ 7.87481012,  4.25525094,  0.        ,  0.        ],\n",
       "       [ 4.25525094,  3.61259548,  2.78840043,  0.        ],\n",
       "       [ 0.        ,  2.78840043, -5.21899643,  2.52111676],\n",
       "       [ 0.        ,  0.        ,  2.52111676,  3.13159083]])"
      ]
     },
     "execution_count": 5,
     "metadata": {},
     "output_type": "execute_result"
    }
   ],
   "source": [
    "#Lanczos tridiagnoalisation\n",
    "import numpy as np\n",
    "from numpy.linalg import norm\n",
    "from numpy.random import random\n",
    "\n",
    "A = np.array([[2, -1+1j, -0.5j, 4.25],\n",
    "    [-1-1j, 4, 1, 7],\n",
    "    [0.5j, 1, 2, -1+2j],\n",
    "    [4.25, 7, -1-2j, 1.4]])\n",
    "N = len(A)\n",
    "I = np.identity(N) #identity matrix\n",
    "\n",
    "# random starting vector\n",
    "x = random(N)\n",
    "\n",
    "# initialise coefficients\n",
    "qii = 0 # q_{i-1}\n",
    "a = [0] # a_0\n",
    "b = [norm(x)] # b_0\n",
    "\n",
    "# Lanczos iteration\n",
    "for i in range(1,N+1):\n",
    "    # calculate q_i:\n",
    "    qi = x/b[i-1]\n",
    "    # append a_i = q_i*.A.q_i to the list\n",
    "    a.append( np.conj(qi).dot(A.dot(qi)) )\n",
    "    # orthogonalise A.q_i\n",
    "    x = np.dot((A-a[i]*I), qi) - b[i-1]*qii\n",
    "    # append b_i = |x| if i<N\n",
    "    if i<N:\n",
    "        b.append(norm(x))\n",
    "    # store qi as qii for the next iteration\n",
    "    qii = qi\n",
    "# drop initial values, and remove any small\n",
    "# complex round-off error present\n",
    "a = np.real_if_close(a[1:])\n",
    "b = np.real_if_close(b[1:])\n",
    "# construct the tridiagonal matrix\n",
    "T = np.diag(a) + np.diag(b,1) + np.diag(b,-1)"
   ]
  },
  {
   "cell_type": "code",
   "execution_count": 7,
   "metadata": {},
   "outputs": [
    {
     "data": {
      "text/plain": [
       "array([[ True, False, False, False],\n",
       "       [False, False, False, False],\n",
       "       [False, False, False, False],\n",
       "       [False, False, False, False]])"
      ]
     },
     "execution_count": 7,
     "metadata": {},
     "output_type": "execute_result"
    }
   ],
   "source": [
    "#upper hessenberg matrix \n",
    "\n",
    "import scipy as sp\n",
    "import scipy.linalg as la\n",
    "\n",
    "\n",
    "H, Q = la.hessenberg(A, calc_q=True)\n",
    "H == np.conj(Q).dot(A).dot(Q)"
   ]
  }
 ],
 "metadata": {
  "interpreter": {
   "hash": "ba9b58dc1a7393ca2277b2071fc950243d4359844a5ae775cc867013710d75c3"
  },
  "kernelspec": {
   "display_name": "Python 3.9.7 64-bit ('base': conda)",
   "language": "python",
   "name": "python3"
  },
  "language_info": {
   "codemirror_mode": {
    "name": "ipython",
    "version": 3
   },
   "file_extension": ".py",
   "mimetype": "text/x-python",
   "name": "python",
   "nbconvert_exporter": "python",
   "pygments_lexer": "ipython3",
   "version": "3.9.7"
  },
  "orig_nbformat": 4
 },
 "nbformat": 4,
 "nbformat_minor": 2
}
