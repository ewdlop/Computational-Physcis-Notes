{
 "cells": [
  {
   "cell_type": "code",
   "execution_count": null,
   "metadata": {},
   "outputs": [],
   "source": [
    "import numpy as np\n",
    "\n",
    "#Define the probability density function\n",
    "pdf = lambda x: np.abs(np.exp(-x**2/2))**2\n",
    "\n",
    "# grid spacing and grid points\n",
    "dx = 0.01\n",
    "a = -5; b=5\n",
    "N = int((b-a)/dx+1)\n",
    "\n",
    "# Simpson's rule using funciton calls\n",
    "A = pdf(a) + pdf(b)\n",
    "for n in range(1,N):\n",
    "    #even terms\n",
    "    if n % 2 == 0:\n",
    "        A += 4*pdf(a + n * dx)\n",
    "    else:\n",
    "        A += 2*pdf(a + n * dx)\n",
    "A *= dx/3\n",
    "\n",
    "# normalise the wavefunction\n",
    "psiNorm = lambda x: np.exp(-x**2/2)/np.sqrt(A)"
   ]
  },
  {
   "cell_type": "code",
   "execution_count": null,
   "metadata": {},
   "outputs": [],
   "source": [
    "# create the wavefunction grid\n",
    "dx = 0.01\n",
    "x = np.arange(-5, 5+dx, dx)\n",
    "psi = np.exp(-x**2/2)\n",
    "prob = np.abs(psi)**2\n",
    "# Simpson's rule using NumPy slicing\n",
    "A = (dx/3) * (prob[0] + 4*np.sum(prob[1:-1:2])\n",
    "+ 2*np.sum(prob[2:-1:2]) + prob[-1])\n",
    "# normalise the wavefunction\n",
    "psiNorm = psi/np.sqrt(A)"
   ]
  }
 ],
 "metadata": {
  "interpreter": {
   "hash": "ba9b58dc1a7393ca2277b2071fc950243d4359844a5ae775cc867013710d75c3"
  },
  "kernelspec": {
   "display_name": "Python 3.9.7 64-bit ('base': conda)",
   "language": "python",
   "name": "python3"
  },
  "language_info": {
   "name": "python",
   "version": "3.9.7"
  },
  "orig_nbformat": 4
 },
 "nbformat": 4,
 "nbformat_minor": 2
}
