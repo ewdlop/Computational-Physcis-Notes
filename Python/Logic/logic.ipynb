{
 "cells": [
  {
   "cell_type": "code",
   "execution_count": 4,
   "metadata": {},
   "outputs": [
    {
     "name": "stdout",
     "output_type": "stream",
     "text": [
      "True NAND True = False\n",
      "True NAND True = False\n",
      "True NAND False = False\n",
      "True NAND False = False\n",
      "False NAND True = False\n",
      "False NAND True = False\n",
      "False NAND False = True\n",
      "False NAND False = True\n",
      "[[0.70710678+0.j]\n",
      " [0.70710678+0.j]]\n",
      "[[0.70710678+0.j]\n",
      " [0.70710678+0.j]]\n",
      "[[False]\n",
      " [False]]\n"
     ]
    }
   ],
   "source": [
    "from itertools import product\n",
    "import numpy as np\n",
    "\n",
    "# NAND\n",
    "for inter in product([True, False], repeat=3):\n",
    "    ouput = not (inter[0] or inter[1])\n",
    "    print(f\"{inter[0]} NAND {inter[1]} = {ouput}\")\n",
    "\n",
    "# ket\n",
    "ket0 = np.array([[1], [0]], dtype=complex)\n",
    "ket1 = np.array([[0], [1]], dtype=complex)\n",
    "ket_plus = np.array([[1], [1]], dtype=complex) / np.sqrt(2)\n",
    "ket_minus = np.array([[1], [-1]], dtype=complex) / np.sqrt(2)\n",
    "\n",
    "# Hadamard\n",
    "\n",
    "H = np.array([[1, 1], [1, -1]], dtype=complex) / np.sqrt(2)\n",
    "X = np.array([[0, 1], [1, 0]], dtype=complex) / np.sqrt(2)\n",
    "\n",
    "print(H @ ket0)\n",
    "\n",
    "# Quantum Not Gate\n",
    "print(H @ ket0)\n",
    "print(H @ ket0 == ket1)"
   ]
  },
  {
   "cell_type": "code",
   "execution_count": 3,
   "metadata": {},
   "outputs": [],
   "source": [
    "from abc import ABCMeta, abstractmethod\n",
    "from contextlib import contextmanager\n",
    "class Qubit(metaclass=ABCMeta):\n",
    "    @abstractmethod\n",
    "    def h(self): pass\n",
    "\n",
    "    @abstractmethod\n",
    "    def x(self): pass\n",
    "    \n",
    "    @abstractmethod\n",
    "    def measure(self) -> bool: pass\n",
    "\n",
    "    @abstractmethod\n",
    "    def reset(self): pass"
   ]
  },
  {
   "cell_type": "code",
   "execution_count": 5,
   "metadata": {},
   "outputs": [],
   "source": [
    "class QuantumDevice(metaclass=ABCMeta):\n",
    "    @abstractmethod\n",
    "    def allocate_qubit(self) -> Qubit: pass\n",
    "\n",
    "    @abstractmethod\n",
    "    def deallocate_qubit(self, qubit: Qubit): pass\n",
    "\n",
    "    @abstractmethod\n",
    "    def using_qubit(self) -> Qubit:\n",
    "        qubit = self.allocate_qubit()\n",
    "        try:\n",
    "            yield qubit\n",
    "        finally:\n",
    "            qubit.reset()\n",
    "            self.deallocate_qubit(qubit)"
   ]
  },
  {
   "cell_type": "code",
   "execution_count": 6,
   "metadata": {},
   "outputs": [],
   "source": [
    "def qrng(device: QuantumDevice) -> bool:\n",
    "    with device.using_qubit() as q:\n",
    "        q.h()\n",
    "        return q.measure()"
   ]
  },
  {
   "cell_type": "code",
   "execution_count": 11,
   "metadata": {},
   "outputs": [],
   "source": [
    "class SimulatedQubit(Qubit):\n",
    "    def __init__(self):\n",
    "        self.reset()\n",
    "\n",
    "    def h(self):\n",
    "        self.state = H @ self.state\n",
    "    \n",
    "    def x(self):\n",
    "        self.state = X @ self.state\n",
    "\n",
    "    def measure(self) -> bool:\n",
    "        pr0 = np.abs(self.state[0, 0]) ** 2\n",
    "        sample = np.random.random() <= pr0\n",
    "        return bool(0 if sample else 1)\n",
    "    \n",
    "    def reset(self):\n",
    "        self.state = ket0.copy()"
   ]
  },
  {
   "cell_type": "code",
   "execution_count": null,
   "metadata": {},
   "outputs": [],
   "source": [
    "#qkd\n",
    "\n",
    "def prepare_classical_message(bit: bool, q: Qubit) -> None:\n",
    "    if bit:\n",
    "        q.x()\n",
    "\n",
    "def prepare_classical_message_plusminus(bit: bool, q: Qubit) -> None:\n",
    "    if bit:\n",
    "        q.x()\n",
    "    q.h()\n",
    "\n",
    "def eve_measure(q: Qubit) -> bool:\n",
    "    return q.measure()\n",
    "\n",
    "def eve_measure_plusminus(q: Qubit) -> bool:\n",
    "    q.h()\n",
    "    return q.measure()\n",
    "\n",
    "def send_classical_bit(device: QuantumDevice, bit: bool) -> None:\n",
    "    with device.using_qubit() as q:\n",
    "        prepare_classical_message(bit, q)\n",
    "        result = eve_measure(q)\n",
    "        q.reset()\n",
    "        assert result == bit\n",
    "\n",
    "\n",
    "def send_classical_bit_plusminus(device: QuantumDevice, bit: bool) -> None:\n",
    "    with device.using_qubit() as q:\n",
    "        prepare_classical_message_plusminus(bit, q)\n",
    "        result = eve_measure_plusminus(q)\n",
    "        assert result == bit\n",
    "\n",
    "def send_classical_bit_wrong_basis(device: QuantumDevice, bit: bool) -> None:\n",
    "    with device.using_qubit() as q:\n",
    "        prepare_classical_message(bit, q)\n",
    "        result = eve_measure_plusminus(q)\n",
    "        assert result == bit"
   ]
  },
  {
   "cell_type": "code",
   "execution_count": null,
   "metadata": {},
   "outputs": [],
   "source": [
    "#BB84"
   ]
  }
 ],
 "metadata": {
  "kernelspec": {
   "display_name": "base",
   "language": "python",
   "name": "python3"
  },
  "language_info": {
   "codemirror_mode": {
    "name": "ipython",
    "version": 3
   },
   "file_extension": ".py",
   "mimetype": "text/x-python",
   "name": "python",
   "nbconvert_exporter": "python",
   "pygments_lexer": "ipython3",
   "version": "3.10.9"
  },
  "orig_nbformat": 4
 },
 "nbformat": 4,
 "nbformat_minor": 2
}
