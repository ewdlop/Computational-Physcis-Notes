{
 "cells": [
  {
   "cell_type": "code",
   "execution_count": null,
   "metadata": {},
   "outputs": [],
   "source": [
    "#Radial probability densities of the hydrogen atom determined using the Numerov-Cooley method\n",
    "import numpy as np\n",
    "\n",
    "# discretise the r grid\n",
    "dr = 0.001\n",
    "r = np.arange(1e-15, 60+dr , dr)\n",
    "N = r.shape[0]\n",
    "\n",
    "# define the potential V as a function of l(the state)\n",
    "Veff = lambda l: -1/r + l*(l+1)/(2*r**2)\n",
    "# Hydrogen energy eigenvalues\n",
    "En = lambda n: -1/(2*n**2)\n",
    "\n",
    "# initial trial energy and potential\n",
    "E = En(1)\n",
    "V = Veff(0)\n",
    "\n",
    "k = dr**2/12 # a Numerov parameter\n",
    "# iterate the Numerov-Cooley method for\n",
    "# 1000 maximum steps\n",
    "for i in range(1000):\n",
    "    P = -2*(V-E)\n",
    "    # set the two initial conditions\n",
    "    # for the wavefunction at both boundaries.\n",
    "    psi = np.zeros_like(r)\n",
    "    psi[1] = 1e-6\n",
    "    psi[-1] = 1e-6\n",
    "    # outward integration to point m-1\n",
    "    for j in range(1, N-1):\n",
    "        psi[j+1] = 2*psi[j]*(1-5*k*P[j]) - psi[j-1]*(1+k*P[j-1])\n",
    "        psi[j+1] /= 1+k*P[j+1]\n",
    "        # when the first turning point is found,\n",
    "        # set it as the match point\n",
    "        if psi[j] < psi[j-1]:\n",
    "            m = j+1\n",
    "            psi_out_m = psi[m]\n",
    "            break\n",
    "    \n",
    "    # inward integration to point m+1\n",
    "    for j in range(N-2, m, -1):\n",
    "        psi[j-1] = 2*psi[j]*(1-5*k*P[j]) - psi[j+1]*(1+k*P[j+1])\n",
    "        psi[j-1] /= 1+k*P[j-1]\n",
    "    # scale outward and inward integration so psi(m)=1\n",
    "    psi[:m] /= psi_out_m\n",
    "    psi[m:] /= psi[m]\n",
    "\n",
    "    # Cooley's energy correction formula\n",
    "    Y = (1+k*P)*psi\n",
    "    dE = (psi[m].conj()/np.sum(np.abs(psi)**2)) \\\n",
    "    *(-0.5*(Y[m+1]-2*Y[m]+Y[m-1])/(dr**2)+(V[m]-E)*psi[m])\n",
    "    E += dE\n",
    "    # if dE is smaller than a set precision,\n",
    "    # exit the loop early.\n",
    "    if np.abs(dE) < 1e-6:\n",
    "        break\n",
    "    \n",
    "# the final wavefunction and energy in Hartrees\n",
    "print(E*27.21, psi)"
   ]
  }
 ],
 "metadata": {
  "kernelspec": {
   "display_name": "base",
   "language": "python",
   "name": "python3"
  },
  "language_info": {
   "name": "python",
   "version": "3.9.15 (main, Nov 24 2022, 14:39:17) [MSC v.1916 64 bit (AMD64)]"
  },
  "orig_nbformat": 4,
  "vscode": {
   "interpreter": {
    "hash": "acbe944587e9153b3760fe6bdea35fbf77e65f6dcc869406197e5f964786d5ed"
   }
  }
 },
 "nbformat": 4,
 "nbformat_minor": 2
}
